{
 "cells": [
  {
   "cell_type": "code",
   "execution_count": 8,
   "id": "cd7443d5",
   "metadata": {},
   "outputs": [],
   "source": [
    "import xml.etree.ElementTree as ET\n",
    "import glob\n",
    "import subprocess\n",
    "import shutil\n",
    "import pickle\n",
    "import matplotlib.pyplot as plt\n",
    "import sys\n",
    "import os"
   ]
  },
  {
   "cell_type": "code",
   "execution_count": 30,
   "id": "3a0efb78",
   "metadata": {},
   "outputs": [],
   "source": [
    "app_perm_dictionary = {}\n",
    "\n",
    "def apktool(apkName):\n",
    "    subprocess.run([\"apktool\", \"d\", \"-f\",apkName, \"-o\" \"temp_dir\"], shell=True)\n",
    "\n",
    "def deleteTempFolder():\n",
    "    shutil.rmtree(\"temp_dir\")\n",
    "    \n",
    "def read_app_permissions():\n",
    "\n",
    "    files = glob.glob(os.path.dirname(os.getcwd()) + '\\APKs\\*')\n",
    "\n",
    "    for file in files:\n",
    "        app_name = file.split('/')[-1]\n",
    "        app_perm_dictionary[app_name] = []\n",
    "        apktool(file)\n",
    "        tree = ET.parse(\"temp_dir/AndroidManifest.xml\")\n",
    "        uses_permissionE_elem = tree.findall('uses-permission')\n",
    "\n",
    "        for elem in uses_permissionE_elem:\n",
    "            app_perm_dictionary[app_name].append(elem.attrib[list(elem.attrib.keys())[0]])\n",
    "\n",
    "        deleteTempFolder()\n",
    "\n",
    "def top_ten_freq_permission():\n",
    "    with open('filename.pickle', 'rb') as handle:\n",
    "        app_perm_dictionary = pickle.load(handle)\n",
    "\n",
    "    permission_count = {}\n",
    "\n",
    "    for app in app_perm_dictionary:\n",
    "        for perm in app_perm_dictionary[app]:\n",
    "            if perm not in permission_count:\n",
    "                permission_count[perm] = 1\n",
    "            else:\n",
    "                permission_count[perm] += 1\n",
    "    \n",
    "    permission_count_list = []\n",
    "\n",
    "    for perm_name, perm_count in permission_count.items():\n",
    "        permission_count_list.append([perm_count, perm_name])\n",
    "    \n",
    "    permission_count_list.sort(key=lambda x : x[0],reverse=True)\n",
    "\n",
    "    print([x[1] for x in permission_count_list][:10])\n",
    "\n",
    "    return permission_count_list\n",
    "\n",
    "def top_ten_apps():\n",
    "\n",
    "    with open('filename.pickle', 'rb') as handle:\n",
    "        app_perm_dictionary = pickle.load(handle)\n",
    "\n",
    "    app_permission_count = []\n",
    "\n",
    "    for app, permissions in app_perm_dictionary.items():\n",
    "        app_permission_count.append([len(permissions), app])\n",
    "    \n",
    "    app_permission_count.sort(key=lambda x : x[0], reverse=True)\n",
    "\n",
    "    print([x[1] for x in app_permission_count][:10])\n",
    "\n",
    "    return app_permission_count\n",
    "\n",
    "def plot(app_permission_count):\n",
    "\n",
    "    x = range(0,71)\n",
    "    y = [0]*71\n",
    "    for [count, app] in app_permission_count:\n",
    "        y[count] += 1\n",
    "    plt.bar(x, y)\n",
    "    plt.xlabel(\"Number of Permissions\")\n",
    "    plt.ylabel(\"Number of Apps\")\n",
    "    for permission_count, app_count in enumerate(y):\n",
    "        if app_count:\n",
    "            plt.text(x=permission_count-0.5, y=app_count+0.5, s=f\"{app_count}\")\n",
    "    plt.show()\n",
    "\n"
   ]
  },
  {
   "cell_type": "code",
   "execution_count": 31,
   "id": "0853a3eb",
   "metadata": {},
   "outputs": [],
   "source": [
    "read_app_permissions()"
   ]
  },
  {
   "cell_type": "code",
   "execution_count": 32,
   "id": "e395cc7c",
   "metadata": {},
   "outputs": [],
   "source": [
    "with open('filename.pickle', 'wb') as handle:\n",
    "    pickle.dump(app_perm_dictionary, handle, protocol=pickle.HIGHEST_PROTOCOL)"
   ]
  },
  {
   "cell_type": "code",
   "execution_count": 33,
   "id": "ce4b6fe4",
   "metadata": {},
   "outputs": [
    {
     "name": "stdout",
     "output_type": "stream",
     "text": [
      "['android.permission.INTERNET', 'android.permission.ACCESS_NETWORK_STATE', 'android.permission.WRITE_EXTERNAL_STORAGE', 'android.permission.VIBRATE', 'android.permission.READ_PHONE_STATE', 'android.permission.ACCESS_FINE_LOCATION', 'android.permission.WAKE_LOCK', 'android.permission.ACCESS_COARSE_LOCATION', 'android.permission.READ_CONTACTS', 'android.permission.CAMERA']\n"
     ]
    }
   ],
   "source": [
    "permission_count_list = top_ten_freq_permission()"
   ]
  },
  {
   "cell_type": "code",
   "execution_count": 34,
   "id": "3613db2f",
   "metadata": {},
   "outputs": [
    {
     "name": "stdout",
     "output_type": "stream",
     "text": [
      "['C:\\\\Users\\\\shara\\\\Documents\\\\ASU\\\\Projects\\\\CSE545-GROUP-47\\\\APKs\\\\me.everything.launcher.apk', 'C:\\\\Users\\\\shara\\\\Documents\\\\ASU\\\\Projects\\\\CSE545-GROUP-47\\\\APKs\\\\9999999999999_com.android.phone.apk', 'C:\\\\Users\\\\shara\\\\Documents\\\\ASU\\\\Projects\\\\CSE545-GROUP-47\\\\APKs\\\\com.speaktoit.assistant.apk', 'C:\\\\Users\\\\shara\\\\Documents\\\\ASU\\\\Projects\\\\CSE545-GROUP-47\\\\APKs\\\\1311184772_es.codefactory.android.app.ma.vocalizerenudemo.apk', 'C:\\\\Users\\\\shara\\\\Documents\\\\ASU\\\\Projects\\\\CSE545-GROUP-47\\\\APKs\\\\1317675242_com.google.android.apps.plus.apk', 'C:\\\\Users\\\\shara\\\\Documents\\\\ASU\\\\Projects\\\\CSE545-GROUP-47\\\\APKs\\\\com.bluetornadosf.smartypants-190.apk', 'C:\\\\Users\\\\shara\\\\Documents\\\\ASU\\\\Projects\\\\CSE545-GROUP-47\\\\APKs\\\\com.avast.android.mobilesecurity-2129.apk', 'C:\\\\Users\\\\shara\\\\Documents\\\\ASU\\\\Projects\\\\CSE545-GROUP-47\\\\APKs\\\\1310178647_com.yahoo.mobile.client.android.im.apk', 'C:\\\\Users\\\\shara\\\\Documents\\\\ASU\\\\Projects\\\\CSE545-GROUP-47\\\\APKs\\\\com.booking.apk', 'C:\\\\Users\\\\shara\\\\Documents\\\\ASU\\\\Projects\\\\CSE545-GROUP-47\\\\APKs\\\\1314646812_com.cc.apk']\n"
     ]
    }
   ],
   "source": [
    "app_permission_count = top_ten_apps()"
   ]
  },
  {
   "cell_type": "code",
   "execution_count": 35,
   "id": "938b7fe3",
   "metadata": {},
   "outputs": [
    {
     "data": {
      "image/png": "[encoded data removed]",
      "text/plain": [
       "<Figure size 640x480 with 1 Axes>"
      ]
     },
     "metadata": {},
     "output_type": "display_data"
    }
   ],
   "source": [
    "plot(app_permission_count)"
   ]
  },
  {
   "cell_type": "code",
   "execution_count": null,
   "id": "027e8c34",
   "metadata": {},
   "outputs": [],
   "source": []
  }
 ],
 "metadata": {
  "kernelspec": {
   "display_name": "Python 3 (ipykernel)",
   "language": "python",
   "name": "python3"
  },
  "language_info": {
   "codemirror_mode": {
    "name": "ipython",
    "version": 3
   },
   "file_extension": ".py",
   "mimetype": "text/x-python",
   "name": "python",
   "nbconvert_exporter": "python",
   "pygments_lexer": "ipython3",
   "version": "3.9.13"
  }
 },
 "nbformat": 4,
 "nbformat_minor": 5
}
